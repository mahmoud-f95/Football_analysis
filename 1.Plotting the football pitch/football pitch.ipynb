{
 "cells": [
  {
   "cell_type": "markdown",
   "metadata": {},
   "source": [
    "### Plotting a football pitch in python"
   ]
  },
  {
   "cell_type": "markdown",
   "metadata": {},
   "source": [
    "##### **First Method:** Using mplsoccer library "
   ]
  },
  {
   "cell_type": "markdown",
   "metadata": {},
   "source": [
    "pip install mplsoccer"
   ]
  },
  {
   "cell_type": "code",
   "execution_count": 4,
   "metadata": {},
   "outputs": [],
   "source": [
    "from mplsoccer.pitch import Pitch"
   ]
  },
  {
   "cell_type": "code",
   "execution_count": 8,
   "metadata": {},
   "outputs": [
    {
     "data": {
      "image/png": "[encoded data removed]",
      "text/plain": [
       "<Figure size 720x432 with 1 Axes>"
      ]
     },
     "metadata": {},
     "output_type": "display_data"
    }
   ],
   "source": [
    "# Setup the pitch\n",
    "pitch = Pitch(pitch_type='statsbomb', pitch_color='#22312b', line_color='#c7d5cc')\n",
    "fig, ax = pitch.draw(figsize=(10, 6), constrained_layout=True, tight_layout=False)\n",
    "fig.set_facecolor('#22312b')"
   ]
  },
  {
   "cell_type": "markdown",
   "metadata": {},
   "source": [
    "##### **Second Method:** From FCPython.com"
   ]
  },
  {
   "cell_type": "code",
   "execution_count": 9,
   "metadata": {},
   "outputs": [],
   "source": [
    "import matplotlib.pyplot as plt\n",
    "from matplotlib.patches import Arc"
   ]
  },
  {
   "cell_type": "code",
   "execution_count": 15,
   "metadata": {},
   "outputs": [
    {
     "data": {
      "image/png": "[encoded data removed]",
      "text/plain": [
       "<Figure size 432x288 with 1 Axes>"
      ]
     },
     "metadata": {
      "needs_background": "light"
     },
     "output_type": "display_data"
    }
   ],
   "source": [
    "def createPitch():\n",
    "    \n",
    "    #Create figure\n",
    "    fig=plt.figure()\n",
    "    ax=fig.add_subplot(1,1,1)\n",
    "\n",
    "    #Pitch Outline & Centre Line\n",
    "    plt.plot([0,0],[0,90], color=\"cyan\")\n",
    "    plt.plot([0,130],[90,90], color=\"cyan\")\n",
    "    plt.plot([130,130],[90,0], color=\"cyan\")\n",
    "    plt.plot([130,0],[0,0], color=\"cyan\")\n",
    "    plt.plot([65,65],[0,90], color=\"cyan\")\n",
    "    \n",
    "    #Left Penalty Area\n",
    "    plt.plot([16.5,16.5],[65,25],color=\"cyan\")\n",
    "    plt.plot([0,16.5],[65,65],color=\"cyan\")\n",
    "    plt.plot([16.5,0],[25,25],color=\"cyan\")\n",
    "    \n",
    "    #Right Penalty Area\n",
    "    plt.plot([130,113.5],[65,65],color=\"cyan\")\n",
    "    plt.plot([113.5,113.5],[65,25],color=\"cyan\")\n",
    "    plt.plot([113.5,130],[25,25],color=\"cyan\")\n",
    "    \n",
    "    #Left 6-yard Box\n",
    "    plt.plot([0,5.5],[54,54],color=\"cyan\")\n",
    "    plt.plot([5.5,5.5],[54,36],color=\"cyan\")\n",
    "    plt.plot([5.5,0.5],[36,36],color=\"cyan\")\n",
    "    \n",
    "    #Right 6-yard Box\n",
    "    plt.plot([130,124.5],[54,54],color=\"cyan\")\n",
    "    plt.plot([124.5,124.5],[54,36],color=\"cyan\")\n",
    "    plt.plot([124.5,130],[36,36],color=\"cyan\")\n",
    "    \n",
    "    #Prepare Circles\n",
    "    centreCircle = plt.Circle((65,45),9.15,color=\"cyan\",fill=False)\n",
    "    centreSpot = plt.Circle((65,45),0.8,color=\"cyan\")\n",
    "    leftPenSpot = plt.Circle((11,45),0.8,color=\"cyan\")\n",
    "    rightPenSpot = plt.Circle((119,45),0.8,color=\"cyan\")\n",
    "    \n",
    "    #Draw Circles\n",
    "    ax.add_patch(centreCircle)\n",
    "    ax.add_patch(centreSpot)\n",
    "    ax.add_patch(leftPenSpot)\n",
    "    ax.add_patch(rightPenSpot)\n",
    "    \n",
    "    #Prepare Arcs\n",
    "    leftArc = Arc((11,45),height=18.3,width=18.3,angle=0,theta1=310,theta2=50,color=\"cyan\")\n",
    "    rightArc = Arc((119,45),height=18.3,width=18.3,angle=0,theta1=130,theta2=230,color=\"cyan\")\n",
    "\n",
    "    #Draw Arcs\n",
    "    ax.add_patch(leftArc)\n",
    "    ax.add_patch(rightArc)\n",
    "    \n",
    "    #Tidy Axes\n",
    "    plt.axis('off')\n",
    "    \n",
    "    #Display Pitch\n",
    "    plt.show()\n",
    "    \n",
    "createPitch()"
   ]
  }
 ],
 "metadata": {
  "kernelspec": {
   "display_name": "Python 3.10.1 ('minimal_ds')",
   "language": "python",
   "name": "python3"
  },
  "language_info": {
   "codemirror_mode": {
    "name": "ipython",
    "version": 3
   },
   "file_extension": ".py",
   "mimetype": "text/x-python",
   "name": "python",
   "nbconvert_exporter": "python",
   "pygments_lexer": "ipython3",
   "version": "3.10.1"
  },
  "orig_nbformat": 4,
  "vscode": {
   "interpreter": {
    "hash": "98565a6018e4ad1d560aaacfe433b1dd643fdfec4fd7e63a58f20bfe9203e98d"
   }
  }
 },
 "nbformat": 4,
 "nbformat_minor": 2
}
