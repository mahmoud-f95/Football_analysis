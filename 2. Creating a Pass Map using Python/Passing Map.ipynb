{
 "cells": [
  {
   "cell_type": "markdown",
   "metadata": {},
   "source": [
    "### Creating a passing map in python"
   ]
  },
  {
   "cell_type": "markdown",
   "metadata": {},
   "source": [
    "**Pass Map**  is simply a representation for all the passes made by  a player or a team by plotting the starting and the end position of each pass using coordinates\n",
    "\n",
    "**Pass Map** is an important indicator of the player activness, positioning, availability to his teammates and more\n",
    "\n",
    "##### Data:\n",
    "for this use case I used data that I generated from an extended highlights video on yotube for Luka Modric's game against Iiverpool in 2022 the UCL Final.\n",
    "The dataset has been generated using Video Event Tagger developped by fcpython.com\n",
    "\n",
    "\n"
   ]
  },
  {
   "cell_type": "markdown",
   "metadata": {},
   "source": [
    "#### Importing library"
   ]
  },
  {
   "cell_type": "code",
   "execution_count": 1,
   "metadata": {},
   "outputs": [],
   "source": [
    "import pandas as pd\n",
    "import matplotlib.pyplot as plt\n",
    "import seaborn as sns\n",
    "from mplsoccer.pitch import Pitch"
   ]
  },
  {
   "cell_type": "markdown",
   "metadata": {},
   "source": [
    "#### Importing data"
   ]
  },
  {
   "cell_type": "code",
   "execution_count": 2,
   "metadata": {},
   "outputs": [
    {
     "data": {
      "text/html": [
       "<div>\n",
       "<style scoped>\n",
       "    .dataframe tbody tr th:only-of-type {\n",
       "        vertical-align: middle;\n",
       "    }\n",
       "\n",
       "    .dataframe tbody tr th {\n",
       "        vertical-align: top;\n",
       "    }\n",
       "\n",
       "    .dataframe thead th {\n",
       "        text-align: right;\n",
       "    }\n",
       "</style>\n",
       "<table border=\"1\" class=\"dataframe\">\n",
       "  <thead>\n",
       "    <tr style=\"text-align: right;\">\n",
       "      <th></th>\n",
       "      <th>Team</th>\n",
       "      <th>Player</th>\n",
       "      <th>Event</th>\n",
       "      <th>Mins</th>\n",
       "      <th>Secs</th>\n",
       "      <th>X</th>\n",
       "      <th>Y</th>\n",
       "      <th>end_x</th>\n",
       "      <th>end_y</th>\n",
       "      <th>outcome</th>\n",
       "    </tr>\n",
       "  </thead>\n",
       "  <tbody>\n",
       "    <tr>\n",
       "      <th>0</th>\n",
       "      <td>Home</td>\n",
       "      <td>Modric</td>\n",
       "      <td>Pass</td>\n",
       "      <td>0</td>\n",
       "      <td>25</td>\n",
       "      <td>19</td>\n",
       "      <td>34</td>\n",
       "      <td>29</td>\n",
       "      <td>20</td>\n",
       "      <td>unsuccessful</td>\n",
       "    </tr>\n",
       "    <tr>\n",
       "      <th>1</th>\n",
       "      <td>Home</td>\n",
       "      <td>Modric</td>\n",
       "      <td>Pass</td>\n",
       "      <td>0</td>\n",
       "      <td>31</td>\n",
       "      <td>30</td>\n",
       "      <td>84</td>\n",
       "      <td>9</td>\n",
       "      <td>55</td>\n",
       "      <td>successful</td>\n",
       "    </tr>\n",
       "    <tr>\n",
       "      <th>2</th>\n",
       "      <td>Home</td>\n",
       "      <td>Modric</td>\n",
       "      <td>Pass</td>\n",
       "      <td>0</td>\n",
       "      <td>33</td>\n",
       "      <td>63</td>\n",
       "      <td>17</td>\n",
       "      <td>70</td>\n",
       "      <td>6</td>\n",
       "      <td>successful</td>\n",
       "    </tr>\n",
       "    <tr>\n",
       "      <th>3</th>\n",
       "      <td>Home</td>\n",
       "      <td>Modric</td>\n",
       "      <td>Pass</td>\n",
       "      <td>0</td>\n",
       "      <td>39</td>\n",
       "      <td>30</td>\n",
       "      <td>67</td>\n",
       "      <td>24</td>\n",
       "      <td>83</td>\n",
       "      <td>successful</td>\n",
       "    </tr>\n",
       "    <tr>\n",
       "      <th>4</th>\n",
       "      <td>Home</td>\n",
       "      <td>Modric</td>\n",
       "      <td>Pass</td>\n",
       "      <td>0</td>\n",
       "      <td>42</td>\n",
       "      <td>20</td>\n",
       "      <td>83</td>\n",
       "      <td>41</td>\n",
       "      <td>41</td>\n",
       "      <td>successful</td>\n",
       "    </tr>\n",
       "  </tbody>\n",
       "</table>\n",
       "</div>"
      ],
      "text/plain": [
       "   Team  Player Event  Mins  Secs   X   Y  end_x  end_y       outcome\n",
       "0  Home  Modric  Pass     0    25  19  34     29     20  unsuccessful\n",
       "1  Home  Modric  Pass     0    31  30  84      9     55    successful\n",
       "2  Home  Modric  Pass     0    33  63  17     70      6    successful\n",
       "3  Home  Modric  Pass     0    39  30  67     24     83    successful\n",
       "4  Home  Modric  Pass     0    42  20  83     41     41    successful"
      ]
     },
     "execution_count": 2,
     "metadata": {},
     "output_type": "execute_result"
    }
   ],
   "source": [
    "passes=pd.read_csv(\"events.csv\")\n",
    "passes.head(5)"
   ]
  },
  {
   "cell_type": "markdown",
   "metadata": {},
   "source": [
    "##### Adjusting the coordinates to align with the statsbomb pitch dimensions"
   ]
  },
  {
   "cell_type": "code",
   "execution_count": 3,
   "metadata": {},
   "outputs": [
    {
     "data": {
      "text/html": [
       "<div>\n",
       "<style scoped>\n",
       "    .dataframe tbody tr th:only-of-type {\n",
       "        vertical-align: middle;\n",
       "    }\n",
       "\n",
       "    .dataframe tbody tr th {\n",
       "        vertical-align: top;\n",
       "    }\n",
       "\n",
       "    .dataframe thead th {\n",
       "        text-align: right;\n",
       "    }\n",
       "</style>\n",
       "<table border=\"1\" class=\"dataframe\">\n",
       "  <thead>\n",
       "    <tr style=\"text-align: right;\">\n",
       "      <th></th>\n",
       "      <th>Team</th>\n",
       "      <th>Player</th>\n",
       "      <th>Event</th>\n",
       "      <th>Mins</th>\n",
       "      <th>Secs</th>\n",
       "      <th>X</th>\n",
       "      <th>Y</th>\n",
       "      <th>end_x</th>\n",
       "      <th>end_y</th>\n",
       "      <th>outcome</th>\n",
       "    </tr>\n",
       "  </thead>\n",
       "  <tbody>\n",
       "    <tr>\n",
       "      <th>0</th>\n",
       "      <td>Home</td>\n",
       "      <td>Modric</td>\n",
       "      <td>Pass</td>\n",
       "      <td>0</td>\n",
       "      <td>25</td>\n",
       "      <td>22.8</td>\n",
       "      <td>27.2</td>\n",
       "      <td>34.8</td>\n",
       "      <td>16.0</td>\n",
       "      <td>unsuccessful</td>\n",
       "    </tr>\n",
       "    <tr>\n",
       "      <th>1</th>\n",
       "      <td>Home</td>\n",
       "      <td>Modric</td>\n",
       "      <td>Pass</td>\n",
       "      <td>0</td>\n",
       "      <td>31</td>\n",
       "      <td>36.0</td>\n",
       "      <td>67.2</td>\n",
       "      <td>10.8</td>\n",
       "      <td>44.0</td>\n",
       "      <td>successful</td>\n",
       "    </tr>\n",
       "    <tr>\n",
       "      <th>2</th>\n",
       "      <td>Home</td>\n",
       "      <td>Modric</td>\n",
       "      <td>Pass</td>\n",
       "      <td>0</td>\n",
       "      <td>33</td>\n",
       "      <td>75.6</td>\n",
       "      <td>13.6</td>\n",
       "      <td>84.0</td>\n",
       "      <td>4.8</td>\n",
       "      <td>successful</td>\n",
       "    </tr>\n",
       "    <tr>\n",
       "      <th>3</th>\n",
       "      <td>Home</td>\n",
       "      <td>Modric</td>\n",
       "      <td>Pass</td>\n",
       "      <td>0</td>\n",
       "      <td>39</td>\n",
       "      <td>36.0</td>\n",
       "      <td>53.6</td>\n",
       "      <td>28.8</td>\n",
       "      <td>66.4</td>\n",
       "      <td>successful</td>\n",
       "    </tr>\n",
       "    <tr>\n",
       "      <th>4</th>\n",
       "      <td>Home</td>\n",
       "      <td>Modric</td>\n",
       "      <td>Pass</td>\n",
       "      <td>0</td>\n",
       "      <td>42</td>\n",
       "      <td>24.0</td>\n",
       "      <td>66.4</td>\n",
       "      <td>49.2</td>\n",
       "      <td>32.8</td>\n",
       "      <td>successful</td>\n",
       "    </tr>\n",
       "  </tbody>\n",
       "</table>\n",
       "</div>"
      ],
      "text/plain": [
       "   Team  Player Event  Mins  Secs     X     Y  end_x  end_y       outcome\n",
       "0  Home  Modric  Pass     0    25  22.8  27.2   34.8   16.0  unsuccessful\n",
       "1  Home  Modric  Pass     0    31  36.0  67.2   10.8   44.0    successful\n",
       "2  Home  Modric  Pass     0    33  75.6  13.6   84.0    4.8    successful\n",
       "3  Home  Modric  Pass     0    39  36.0  53.6   28.8   66.4    successful\n",
       "4  Home  Modric  Pass     0    42  24.0  66.4   49.2   32.8    successful"
      ]
     },
     "execution_count": 3,
     "metadata": {},
     "output_type": "execute_result"
    }
   ],
   "source": [
    "passes[\"X\"]=passes[\"X\"]*1.2\n",
    "passes[\"end_x\"]=passes[\"end_x\"]*1.2\n",
    "passes[\"Y\"]=passes[\"Y\"]*0.8\n",
    "passes[\"end_y\"]=passes[\"end_y\"]*0.8\n",
    "passes.head(5)"
   ]
  },
  {
   "cell_type": "markdown",
   "metadata": {},
   "source": [
    "#### Plotting"
   ]
  },
  {
   "cell_type": "code",
   "execution_count": 4,
   "metadata": {},
   "outputs": [
    {
     "data": {
      "text/plain": [
       "Text(0.5, 1.0, 'Modric passing map VS. Liverpool UCL final 2022 (first half)')"
      ]
     },
     "execution_count": 4,
     "metadata": {},
     "output_type": "execute_result"
    },
    {
     "data": {
      "image/png": "[encoded data removed]",
      "text/plain": [
       "<Figure size 972x576 with 1 Axes>"
      ]
     },
     "metadata": {},
     "output_type": "display_data"
    }
   ],
   "source": [
    "# setting up the canvas\n",
    "fig ,ax = plt.subplots(figsize=(13.5,8))\n",
    "fig.set_facecolor('#22312b')\n",
    "ax.patch.set_facecolor('#22312b')\n",
    "\n",
    "#Plotting the pitch\n",
    "pitch = Pitch(pitch_type='statsbomb', orientation='horizontal',\n",
    "              pitch_color='#22312b', line_color='#c7d5cc', figsize=(13, 8),\n",
    "              constrained_layout=False, tight_layout=True)\n",
    "pitch.draw(ax=ax)\n",
    "\n",
    "# Flipping the y axis to start from 0 to 80\n",
    "#plt.gca().invert_yaxis()\n",
    "\n",
    "# Plotting the passes\n",
    "#Successful passes\n",
    "pitch.arrows(passes[passes[\"outcome\"]==\"successful\"].X, passes[passes[\"outcome\"]==\"successful\"].Y,\n",
    "             passes[passes[\"outcome\"]==\"successful\"].end_x, passes[passes[\"outcome\"]==\"successful\"].end_y, width=2,\n",
    "             headwidth=6, headlength=8, color='cyan', ax=ax, label='successful passes')\n",
    "#unuccessful passes\n",
    "pitch.arrows(passes[passes[\"outcome\"]==\"unsuccessful\"].X, passes[passes[\"outcome\"]==\"unsuccessful\"].Y,\n",
    "             passes[passes[\"outcome\"]==\"unsuccessful\"].end_x, passes[passes[\"outcome\"]==\"unsuccessful\"].end_y, width=2,\n",
    "             headwidth=4, headlength=3, headaxislength=6, color='red', ax=ax, label='unsuccessful passes')\n",
    "# setup the legend and title\n",
    "ax.legend(facecolor='#22312b',handlelength=5, edgecolor='None', fontsize=10, loc='lower left')\n",
    "plt.title(\"Modric passing map VS. Liverpool UCL final 2022 (first half)\",color=\"white\",size=14)"
   ]
  },
  {
   "cell_type": "markdown",
   "metadata": {},
   "source": [
    "#### From the map we can see that Modric mostly played on the first third of the pitch as Liverpool were pressing intensively during the first half, So he was constantly helping his team to escape that pressure instead of playing higher up the pitch where he usually plays. "
   ]
  }
 ],
 "metadata": {
  "kernelspec": {
   "display_name": "Python 3.10.1 ('minimal_ds')",
   "language": "python",
   "name": "python3"
  },
  "language_info": {
   "codemirror_mode": {
    "name": "ipython",
    "version": 3
   },
   "file_extension": ".py",
   "mimetype": "text/x-python",
   "name": "python",
   "nbconvert_exporter": "python",
   "pygments_lexer": "ipython3",
   "version": "3.10.1"
  },
  "orig_nbformat": 4,
  "vscode": {
   "interpreter": {
    "hash": "98565a6018e4ad1d560aaacfe433b1dd643fdfec4fd7e63a58f20bfe9203e98d"
   }
  }
 },
 "nbformat": 4,
 "nbformat_minor": 2
}
