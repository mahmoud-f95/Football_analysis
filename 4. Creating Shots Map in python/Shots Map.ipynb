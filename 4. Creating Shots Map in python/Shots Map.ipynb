{
 "cells": [
  {
   "cell_type": "markdown",
   "metadata": {},
   "source": [
    "### Creating a shots map in python"
   ]
  },
  {
   "cell_type": "markdown",
   "metadata": {},
   "source": [
    "**Shots Map**  is simply a representation for all the shots attempted by  a player or a team by plotting the position at which the player toke the shot and denote wheather the shot was on or off target\n",
    "\n",
    "**shots Map** is an important indicator of the team offensive game (The density of the shots, the proximity to the target etc..)\n",
    "\n",
    "##### Data:\n",
    "for this use case I used data that I generated from an extended highlights video on yotube for the game between Iiverpool and Real Madrid in 2022 the UCL Final.\n",
    "The dataset has been generated using Video Event Tagger developped by fcpython.com\n",
    "\n",
    "\n"
   ]
  },
  {
   "cell_type": "markdown",
   "metadata": {},
   "source": [
    "#### Importing library"
   ]
  },
  {
   "cell_type": "code",
   "execution_count": 57,
   "metadata": {},
   "outputs": [],
   "source": [
    "import pandas as pd\n",
    "import matplotlib.pyplot as plt\n",
    "import seaborn as sns\n",
    "from mplsoccer import Pitch, VerticalPitch"
   ]
  },
  {
   "cell_type": "markdown",
   "metadata": {},
   "source": [
    "#### Importing data"
   ]
  },
  {
   "cell_type": "code",
   "execution_count": 51,
   "metadata": {},
   "outputs": [
    {
     "data": {
      "text/html": [
       "<div>\n",
       "<style scoped>\n",
       "    .dataframe tbody tr th:only-of-type {\n",
       "        vertical-align: middle;\n",
       "    }\n",
       "\n",
       "    .dataframe tbody tr th {\n",
       "        vertical-align: top;\n",
       "    }\n",
       "\n",
       "    .dataframe thead th {\n",
       "        text-align: right;\n",
       "    }\n",
       "</style>\n",
       "<table border=\"1\" class=\"dataframe\">\n",
       "  <thead>\n",
       "    <tr style=\"text-align: right;\">\n",
       "      <th></th>\n",
       "      <th>Team</th>\n",
       "      <th>Event</th>\n",
       "      <th>Mins</th>\n",
       "      <th>Secs</th>\n",
       "      <th>X</th>\n",
       "      <th>Y</th>\n",
       "      <th>outcome</th>\n",
       "    </tr>\n",
       "  </thead>\n",
       "  <tbody>\n",
       "    <tr>\n",
       "      <th>0</th>\n",
       "      <td>Liverpool</td>\n",
       "      <td>Shot</td>\n",
       "      <td>1</td>\n",
       "      <td>30</td>\n",
       "      <td>5</td>\n",
       "      <td>40</td>\n",
       "      <td>on target</td>\n",
       "    </tr>\n",
       "    <tr>\n",
       "      <th>1</th>\n",
       "      <td>Liverpool</td>\n",
       "      <td>Shot</td>\n",
       "      <td>1</td>\n",
       "      <td>38</td>\n",
       "      <td>15</td>\n",
       "      <td>56</td>\n",
       "      <td>on target</td>\n",
       "    </tr>\n",
       "    <tr>\n",
       "      <th>2</th>\n",
       "      <td>Liverpool</td>\n",
       "      <td>Shot</td>\n",
       "      <td>1</td>\n",
       "      <td>45</td>\n",
       "      <td>13</td>\n",
       "      <td>28</td>\n",
       "      <td>off target</td>\n",
       "    </tr>\n",
       "    <tr>\n",
       "      <th>3</th>\n",
       "      <td>Liverpool</td>\n",
       "      <td>Shot</td>\n",
       "      <td>2</td>\n",
       "      <td>0</td>\n",
       "      <td>11</td>\n",
       "      <td>58</td>\n",
       "      <td>on target</td>\n",
       "    </tr>\n",
       "    <tr>\n",
       "      <th>4</th>\n",
       "      <td>Liverpool</td>\n",
       "      <td>Shot</td>\n",
       "      <td>2</td>\n",
       "      <td>34</td>\n",
       "      <td>30</td>\n",
       "      <td>31</td>\n",
       "      <td>off target</td>\n",
       "    </tr>\n",
       "  </tbody>\n",
       "</table>\n",
       "</div>"
      ],
      "text/plain": [
       "        Team Event  Mins  Secs   X   Y     outcome\n",
       "0  Liverpool  Shot     1    30   5  40   on target\n",
       "1  Liverpool  Shot     1    38  15  56   on target\n",
       "2  Liverpool  Shot     1    45  13  28  off target\n",
       "3  Liverpool  Shot     2     0  11  58   on target\n",
       "4  Liverpool  Shot     2    34  30  31  off target"
      ]
     },
     "execution_count": 51,
     "metadata": {},
     "output_type": "execute_result"
    }
   ],
   "source": [
    "shots=pd.read_csv(\"shots.csv\")\n",
    "shots.head(5)"
   ]
  },
  {
   "cell_type": "markdown",
   "metadata": {},
   "source": [
    "##### Adjusting the coordinates to align with the statsbomb pitch dimensions"
   ]
  },
  {
   "cell_type": "code",
   "execution_count": 52,
   "metadata": {},
   "outputs": [],
   "source": [
    "shots[\"X\"]=100-shots[\"X\"]\n",
    "shots[\"Y\"]=100-shots[\"Y\"]"
   ]
  },
  {
   "cell_type": "code",
   "execution_count": 53,
   "metadata": {},
   "outputs": [
    {
     "data": {
      "text/html": [
       "<div>\n",
       "<style scoped>\n",
       "    .dataframe tbody tr th:only-of-type {\n",
       "        vertical-align: middle;\n",
       "    }\n",
       "\n",
       "    .dataframe tbody tr th {\n",
       "        vertical-align: top;\n",
       "    }\n",
       "\n",
       "    .dataframe thead th {\n",
       "        text-align: right;\n",
       "    }\n",
       "</style>\n",
       "<table border=\"1\" class=\"dataframe\">\n",
       "  <thead>\n",
       "    <tr style=\"text-align: right;\">\n",
       "      <th></th>\n",
       "      <th>Team</th>\n",
       "      <th>Event</th>\n",
       "      <th>Mins</th>\n",
       "      <th>Secs</th>\n",
       "      <th>X</th>\n",
       "      <th>Y</th>\n",
       "      <th>outcome</th>\n",
       "    </tr>\n",
       "  </thead>\n",
       "  <tbody>\n",
       "    <tr>\n",
       "      <th>0</th>\n",
       "      <td>Liverpool</td>\n",
       "      <td>Shot</td>\n",
       "      <td>1</td>\n",
       "      <td>30</td>\n",
       "      <td>114.0</td>\n",
       "      <td>48.0</td>\n",
       "      <td>on target</td>\n",
       "    </tr>\n",
       "    <tr>\n",
       "      <th>1</th>\n",
       "      <td>Liverpool</td>\n",
       "      <td>Shot</td>\n",
       "      <td>1</td>\n",
       "      <td>38</td>\n",
       "      <td>102.0</td>\n",
       "      <td>35.2</td>\n",
       "      <td>on target</td>\n",
       "    </tr>\n",
       "    <tr>\n",
       "      <th>2</th>\n",
       "      <td>Liverpool</td>\n",
       "      <td>Shot</td>\n",
       "      <td>1</td>\n",
       "      <td>45</td>\n",
       "      <td>104.4</td>\n",
       "      <td>57.6</td>\n",
       "      <td>off target</td>\n",
       "    </tr>\n",
       "    <tr>\n",
       "      <th>3</th>\n",
       "      <td>Liverpool</td>\n",
       "      <td>Shot</td>\n",
       "      <td>2</td>\n",
       "      <td>0</td>\n",
       "      <td>106.8</td>\n",
       "      <td>33.6</td>\n",
       "      <td>on target</td>\n",
       "    </tr>\n",
       "    <tr>\n",
       "      <th>4</th>\n",
       "      <td>Liverpool</td>\n",
       "      <td>Shot</td>\n",
       "      <td>2</td>\n",
       "      <td>34</td>\n",
       "      <td>84.0</td>\n",
       "      <td>55.2</td>\n",
       "      <td>off target</td>\n",
       "    </tr>\n",
       "  </tbody>\n",
       "</table>\n",
       "</div>"
      ],
      "text/plain": [
       "        Team Event  Mins  Secs      X     Y     outcome\n",
       "0  Liverpool  Shot     1    30  114.0  48.0   on target\n",
       "1  Liverpool  Shot     1    38  102.0  35.2   on target\n",
       "2  Liverpool  Shot     1    45  104.4  57.6  off target\n",
       "3  Liverpool  Shot     2     0  106.8  33.6   on target\n",
       "4  Liverpool  Shot     2    34   84.0  55.2  off target"
      ]
     },
     "execution_count": 53,
     "metadata": {},
     "output_type": "execute_result"
    }
   ],
   "source": [
    "shots[\"X\"]=shots[\"X\"]*1.2\n",
    "shots[\"Y\"]=shots[\"Y\"]*0.8\n",
    "shots.head(5)"
   ]
  },
  {
   "cell_type": "code",
   "execution_count": 85,
   "metadata": {},
   "outputs": [
    {
     "data": {
      "text/plain": [
       "Text(0.5, 1.0, 'Liverpool shots map against Real madrid in the UCL final 2022 ')"
      ]
     },
     "execution_count": 85,
     "metadata": {},
     "output_type": "execute_result"
    },
    {
     "data": {
      "image/png": "[encoded data removed]",
      "text/plain": [
       "<Figure size 936x612 with 1 Axes>"
      ]
     },
     "metadata": {},
     "output_type": "display_data"
    }
   ],
   "source": [
    "# setting up the canvas\n",
    "fig ,ax = plt.subplots(figsize=(13,8.5))\n",
    "fig.set_facecolor('#22312b')\n",
    "ax.patch.set_facecolor('#22312b')\n",
    "\n",
    "#Plotting the pitch\n",
    "pitch = VerticalPitch(pitch_type='statsbomb', orientation='vertical',\n",
    "              pitch_color='#22312b', line_color='#c7d5cc', figsize=(16, 11),\n",
    "              constrained_layout=True, tight_layout=False,half=True)\n",
    "pitch.draw(ax=ax)\n",
    "\n",
    "# Flipping the y axis to start from 0 to 80\n",
    "#plt.gca().invert_yaxis()\n",
    "#plt.gca().invert_xaxis()\n",
    "for i in range(len(shots[\"X\"])):\n",
    "    if shots[\"outcome\"][i]==\"on target\":\n",
    "        plt.scatter(shots[\"Y\"][i],shots[\"X\"][i],c='blue',label=\"on target\")\n",
    "    elif shots[\"outcome\"][i]==\"off target\":\n",
    "        plt.scatter(shots[\"Y\"][i],shots[\"X\"][i],c='red',label=\"off target\")\n",
    "\n",
    "\n",
    "# setup the legend and title\n",
    "ax.legend( fontsize=10, loc='lower left',facecolor='#22312b')\n",
    "plt.title(\"Liverpool shots map against Real madrid in the UCL final 2022 \",color=\"white\",size=16)"
   ]
  },
  {
   "cell_type": "code",
   "execution_count": 88,
   "metadata": {},
   "outputs": [
    {
     "data": {
      "text/plain": [
       "Text(0.5, 1.0, 'Liverpool shots map against Real madrid in the UCL final 2022 ')"
      ]
     },
     "execution_count": 88,
     "metadata": {},
     "output_type": "execute_result"
    },
    {
     "data": {
      "image/png": "[encoded data removed]",
      "text/plain": [
       "<Figure size 936x612 with 1 Axes>"
      ]
     },
     "metadata": {},
     "output_type": "display_data"
    }
   ],
   "source": [
    "# setting up the canvas\n",
    "fig ,ax = plt.subplots(figsize=(13,8.5))\n",
    "fig.set_facecolor('#22312b')\n",
    "ax.patch.set_facecolor('#22312b')\n",
    "\n",
    "#Plotting the pitch\n",
    "pitch = VerticalPitch(pitch_type='statsbomb', orientation='vertical',\n",
    "              pitch_color='#22312b', line_color='#c7d5cc', figsize=(16, 11),\n",
    "              constrained_layout=True, tight_layout=False,half=True)\n",
    "pitch.draw(ax=ax)\n",
    "\n",
    "# Flipping the y axis to start from 0 to 80\n",
    "#plt.gca().invert_yaxis()\n",
    "#plt.gca().invert_xaxis()\n",
    "shots_on=shots[shots[\"outcome\"]==\"on target\"]\n",
    "plt.scatter(shots_on[\"Y\"],shots_on[\"X\"],c='blue',label=\"on target\")\n",
    "shots_off=shots[shots[\"outcome\"]==\"off target\"]\n",
    "plt.scatter(shots_off[\"Y\"],shots_off[\"X\"],c='red',label=\"off target\")\n",
    "\n",
    "\n",
    "# setup the legend and title\n",
    "ax.legend( fontsize=10, loc='lower left',facecolor='#22312b')\n",
    "plt.title(\"Liverpool shots map against Real madrid in the UCL final 2022 \",color=\"white\",size=16)"
   ]
  },
  {
   "cell_type": "markdown",
   "metadata": {},
   "source": [
    "#### From the map we can see that Liverpool had shots from  a really good positions and lots of them were shots on target but this is not conclusive indication of the quality of these chances or shots because there are many other factors to consider like the defenders position, the shoter body positioning, the ball control etc.. So, for the quality of the chances the XG is a much better metric  "
   ]
  }
 ],
 "metadata": {
  "kernelspec": {
   "display_name": "Python 3.10.1 ('minimal_ds')",
   "language": "python",
   "name": "python3"
  },
  "language_info": {
   "codemirror_mode": {
    "name": "ipython",
    "version": 3
   },
   "file_extension": ".py",
   "mimetype": "text/x-python",
   "name": "python",
   "nbconvert_exporter": "python",
   "pygments_lexer": "ipython3",
   "version": "3.10.1"
  },
  "orig_nbformat": 4,
  "vscode": {
   "interpreter": {
    "hash": "98565a6018e4ad1d560aaacfe433b1dd643fdfec4fd7e63a58f20bfe9203e98d"
   }
  }
 },
 "nbformat": 4,
 "nbformat_minor": 2
}
